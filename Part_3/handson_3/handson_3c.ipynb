{
 "cells": [
  {
   "cell_type": "markdown",
   "id": "67305e82",
   "metadata": {
    "colab_type": "text",
    "id": "view-in-github"
   },
   "source": [
    "<a href=\"https://colab.research.google.com/github/wooihaw/pai_apr2025/blob/main/Part_3/handson_3/handson_3c.ipynb\" target=\"_parent\"><img src=\"https://colab.research.google.com/assets/colab-badge.svg\" alt=\"Open In Colab\"/></a>"
   ]
  },
  {
   "cell_type": "markdown",
   "id": "9acdec19",
   "metadata": {
    "id": "9acdec19"
   },
   "source": [
    "## Hands-on 3C\n",
    "#### Build 3 classification models to classify faulty steel plates. The dataset contains information about steel plates and their faults. There are 27 features and the data samples have been classified into 7 different types of steel plate faults."
   ]
  },
  {
   "cell_type": "code",
   "execution_count": 1,
   "id": "6481264f",
   "metadata": {
    "id": "6481264f",
    "tags": []
   },
   "outputs": [],
   "source": [
    "# Initialization\n",
    "%matplotlib inline\n",
    "from warnings import filterwarnings\n",
    "filterwarnings('ignore')"
   ]
  },
  {
   "cell_type": "code",
   "execution_count": 2,
   "id": "1ae13063",
   "metadata": {
    "id": "1ae13063",
    "tags": []
   },
   "outputs": [],
   "source": [
    "# Load the required libraries\n",
    "import sys\n",
    "from pandas import read_csv\n",
    "from sklearn.model_selection import train_test_split as split, KFold, cross_val_score\n",
    "from sklearn.linear_model import LogisticRegression\n",
    "from sklearn.tree import DecisionTreeClassifier\n",
    "from sklearn.neighbors import KNeighborsClassifier\n",
    "from sklearn.preprocessing import StandardScaler\n",
    "from sklearn.decomposition import PCA"
   ]
  },
  {
   "cell_type": "code",
   "execution_count": 3,
   "id": "5dbfb794",
   "metadata": {
    "id": "5dbfb794",
    "tags": []
   },
   "outputs": [],
   "source": [
    "# Load the dataset\n",
    "# Determine the environment\n",
    "is_colab = 'google.colab' in sys.modules\n",
    "\n",
    "# Execute code conditionally\n",
    "if is_colab:\n",
    "    # Code for Google Colab environment\n",
    "    df = read_csv(\"https://raw.githubusercontent.com/wooihaw/datasets/main/steel_faults.csv\")\n",
    "else:\n",
    "    # Code for local Jupyter Notebook environment\n",
    "    df = read_csv(\"steel_faults.csv\")"
   ]
  },
  {
   "cell_type": "markdown",
   "id": "f1ac88e3",
   "metadata": {
    "id": "f1ac88e3"
   },
   "source": [
    "**To do:**\n",
    "- Print 5 random data samples from the dataset"
   ]
  },
  {
   "cell_type": "code",
   "execution_count": 4,
   "id": "a3f0b6ab",
   "metadata": {
    "id": "a3f0b6ab",
    "tags": []
   },
   "outputs": [
    {
     "data": {
      "text/html": [
       "<div>\n",
       "<style scoped>\n",
       "    .dataframe tbody tr th:only-of-type {\n",
       "        vertical-align: middle;\n",
       "    }\n",
       "\n",
       "    .dataframe tbody tr th {\n",
       "        vertical-align: top;\n",
       "    }\n",
       "\n",
       "    .dataframe thead th {\n",
       "        text-align: right;\n",
       "    }\n",
       "</style>\n",
       "<table border=\"1\" class=\"dataframe\">\n",
       "  <thead>\n",
       "    <tr style=\"text-align: right;\">\n",
       "      <th></th>\n",
       "      <th>X_Minimum</th>\n",
       "      <th>X_Maximum</th>\n",
       "      <th>Y_Minimum</th>\n",
       "      <th>Y_Maximum</th>\n",
       "      <th>Pixels_Areas</th>\n",
       "      <th>X_Perimeter</th>\n",
       "      <th>Y_Perimeter</th>\n",
       "      <th>Sum_of_Luminosity</th>\n",
       "      <th>Minimum_of_Luminosity</th>\n",
       "      <th>Maximum_of_Luminosity</th>\n",
       "      <th>...</th>\n",
       "      <th>Edges_X_Index</th>\n",
       "      <th>Edges_Y_Index</th>\n",
       "      <th>Outside_Global_Index</th>\n",
       "      <th>LogOfAreas</th>\n",
       "      <th>Log_X_Index</th>\n",
       "      <th>Log_Y_Index</th>\n",
       "      <th>Orientation_Index</th>\n",
       "      <th>Luminosity_Index</th>\n",
       "      <th>SigmoidOfAreas</th>\n",
       "      <th>Fault</th>\n",
       "    </tr>\n",
       "  </thead>\n",
       "  <tbody>\n",
       "    <tr>\n",
       "      <th>743</th>\n",
       "      <td>955</td>\n",
       "      <td>960</td>\n",
       "      <td>1260440</td>\n",
       "      <td>1260444</td>\n",
       "      <td>17</td>\n",
       "      <td>6</td>\n",
       "      <td>4</td>\n",
       "      <td>2246</td>\n",
       "      <td>120</td>\n",
       "      <td>149</td>\n",
       "      <td>...</td>\n",
       "      <td>0.8333</td>\n",
       "      <td>1.0000</td>\n",
       "      <td>0.0</td>\n",
       "      <td>1.2305</td>\n",
       "      <td>0.6990</td>\n",
       "      <td>0.6021</td>\n",
       "      <td>-0.2000</td>\n",
       "      <td>0.0322</td>\n",
       "      <td>0.1322</td>\n",
       "      <td>Stains</td>\n",
       "    </tr>\n",
       "    <tr>\n",
       "      <th>854</th>\n",
       "      <td>620</td>\n",
       "      <td>631</td>\n",
       "      <td>2104786</td>\n",
       "      <td>2104879</td>\n",
       "      <td>706</td>\n",
       "      <td>56</td>\n",
       "      <td>93</td>\n",
       "      <td>77840</td>\n",
       "      <td>96</td>\n",
       "      <td>127</td>\n",
       "      <td>...</td>\n",
       "      <td>0.1964</td>\n",
       "      <td>1.0000</td>\n",
       "      <td>1.0</td>\n",
       "      <td>2.8488</td>\n",
       "      <td>1.0414</td>\n",
       "      <td>1.9685</td>\n",
       "      <td>0.8817</td>\n",
       "      <td>-0.1386</td>\n",
       "      <td>0.9919</td>\n",
       "      <td>Dirtiness</td>\n",
       "    </tr>\n",
       "    <tr>\n",
       "      <th>879</th>\n",
       "      <td>932</td>\n",
       "      <td>943</td>\n",
       "      <td>3020344</td>\n",
       "      <td>3020360</td>\n",
       "      <td>128</td>\n",
       "      <td>12</td>\n",
       "      <td>16</td>\n",
       "      <td>13996</td>\n",
       "      <td>88</td>\n",
       "      <td>126</td>\n",
       "      <td>...</td>\n",
       "      <td>0.9167</td>\n",
       "      <td>1.0000</td>\n",
       "      <td>1.0</td>\n",
       "      <td>2.1072</td>\n",
       "      <td>1.0414</td>\n",
       "      <td>1.2041</td>\n",
       "      <td>0.3125</td>\n",
       "      <td>-0.1458</td>\n",
       "      <td>0.3012</td>\n",
       "      <td>Bumps</td>\n",
       "    </tr>\n",
       "    <tr>\n",
       "      <th>322</th>\n",
       "      <td>0</td>\n",
       "      <td>16</td>\n",
       "      <td>2724583</td>\n",
       "      <td>2724595</td>\n",
       "      <td>111</td>\n",
       "      <td>20</td>\n",
       "      <td>21</td>\n",
       "      <td>6323</td>\n",
       "      <td>41</td>\n",
       "      <td>70</td>\n",
       "      <td>...</td>\n",
       "      <td>0.8000</td>\n",
       "      <td>0.5714</td>\n",
       "      <td>0.0</td>\n",
       "      <td>2.0453</td>\n",
       "      <td>1.2041</td>\n",
       "      <td>1.0792</td>\n",
       "      <td>-0.2500</td>\n",
       "      <td>-0.5550</td>\n",
       "      <td>0.3241</td>\n",
       "      <td>Z_Scratch</td>\n",
       "    </tr>\n",
       "    <tr>\n",
       "      <th>1930</th>\n",
       "      <td>247</td>\n",
       "      <td>272</td>\n",
       "      <td>244048</td>\n",
       "      <td>244067</td>\n",
       "      <td>235</td>\n",
       "      <td>36</td>\n",
       "      <td>22</td>\n",
       "      <td>29911</td>\n",
       "      <td>119</td>\n",
       "      <td>142</td>\n",
       "      <td>...</td>\n",
       "      <td>0.6944</td>\n",
       "      <td>0.8636</td>\n",
       "      <td>0.0</td>\n",
       "      <td>2.3711</td>\n",
       "      <td>1.3979</td>\n",
       "      <td>1.2787</td>\n",
       "      <td>-0.2400</td>\n",
       "      <td>-0.0056</td>\n",
       "      <td>0.7598</td>\n",
       "      <td>Other_Faults</td>\n",
       "    </tr>\n",
       "  </tbody>\n",
       "</table>\n",
       "<p>5 rows × 28 columns</p>\n",
       "</div>"
      ],
      "text/plain": [
       "      X_Minimum  X_Maximum  Y_Minimum  Y_Maximum  Pixels_Areas  X_Perimeter  \\\n",
       "743         955        960    1260440    1260444            17            6   \n",
       "854         620        631    2104786    2104879           706           56   \n",
       "879         932        943    3020344    3020360           128           12   \n",
       "322           0         16    2724583    2724595           111           20   \n",
       "1930        247        272     244048     244067           235           36   \n",
       "\n",
       "      Y_Perimeter  Sum_of_Luminosity  Minimum_of_Luminosity  \\\n",
       "743             4               2246                    120   \n",
       "854            93              77840                     96   \n",
       "879            16              13996                     88   \n",
       "322            21               6323                     41   \n",
       "1930           22              29911                    119   \n",
       "\n",
       "      Maximum_of_Luminosity  ...  Edges_X_Index  Edges_Y_Index  \\\n",
       "743                     149  ...         0.8333         1.0000   \n",
       "854                     127  ...         0.1964         1.0000   \n",
       "879                     126  ...         0.9167         1.0000   \n",
       "322                      70  ...         0.8000         0.5714   \n",
       "1930                    142  ...         0.6944         0.8636   \n",
       "\n",
       "      Outside_Global_Index  LogOfAreas  Log_X_Index  Log_Y_Index  \\\n",
       "743                    0.0      1.2305       0.6990       0.6021   \n",
       "854                    1.0      2.8488       1.0414       1.9685   \n",
       "879                    1.0      2.1072       1.0414       1.2041   \n",
       "322                    0.0      2.0453       1.2041       1.0792   \n",
       "1930                   0.0      2.3711       1.3979       1.2787   \n",
       "\n",
       "      Orientation_Index  Luminosity_Index  SigmoidOfAreas         Fault  \n",
       "743             -0.2000            0.0322          0.1322        Stains  \n",
       "854              0.8817           -0.1386          0.9919     Dirtiness  \n",
       "879              0.3125           -0.1458          0.3012         Bumps  \n",
       "322             -0.2500           -0.5550          0.3241     Z_Scratch  \n",
       "1930            -0.2400           -0.0056          0.7598  Other_Faults  \n",
       "\n",
       "[5 rows x 28 columns]"
      ]
     },
     "execution_count": 4,
     "metadata": {},
     "output_type": "execute_result"
    }
   ],
   "source": [
    "df.sample(5)"
   ]
  },
  {
   "cell_type": "markdown",
   "id": "c01cb8e5",
   "metadata": {
    "id": "c01cb8e5"
   },
   "source": [
    "**To do:**\n",
    "- Separate the dataset into features (X) and targets (y)"
   ]
  },
  {
   "cell_type": "code",
   "execution_count": 5,
   "id": "60dcdb69",
   "metadata": {
    "id": "60dcdb69",
    "tags": []
   },
   "outputs": [],
   "source": [
    "X = df.drop(columns=['Fault'])\n",
    "y = df['Fault']"
   ]
  },
  {
   "cell_type": "markdown",
   "id": "a354ee9c",
   "metadata": {
    "id": "a354ee9c"
   },
   "source": [
    "**To do:**\n",
    "- Evaluate the performance of k-Nearest Neighbors, Logistic Regression and Decision Tree on this dataset using 5-fold cross validation."
   ]
  },
  {
   "cell_type": "code",
   "execution_count": 6,
   "id": "89c13b59",
   "metadata": {
    "id": "89c13b59",
    "tags": []
   },
   "outputs": [
    {
     "name": "stdout",
     "output_type": "stream",
     "text": [
      "knn: 46.368%, 3.167%\n",
      "lgr: 45.594%, 2.025%\n",
      "dtc: 71.252%, 0.864%\n"
     ]
    }
   ],
   "source": [
    "# Use spot-checking to quickly evaluate the performance of different ML algorithms\n",
    "models = {}\n",
    "models['knn'] = KNeighborsClassifier()\n",
    "models['lgr'] = LogisticRegression()\n",
    "models['dtc'] = DecisionTreeClassifier()\n",
    "kf = KFold(n_splits=5, shuffle=True, random_state=42)\n",
    "\n",
    "for n in models:\n",
    "    scores = cross_val_score(models[n], X, y, cv=kf, n_jobs=-1)\n",
    "    print(f'{n}: {scores.mean():.3%}, {scores.std():.3%}')"
   ]
  },
  {
   "cell_type": "markdown",
   "id": "6b870137",
   "metadata": {
    "id": "6b870137"
   },
   "source": [
    "**To do:**\n",
    "- Peform feature scaling using standard scaler. Evaluate the performance of k-Nearest Neighbors, Logistic Regression and Decision Tree on the scaled features using 5-fold cross validation."
   ]
  },
  {
   "cell_type": "code",
   "execution_count": 7,
   "id": "dd8607c8",
   "metadata": {
    "id": "dd8607c8",
    "tags": []
   },
   "outputs": [
    {
     "name": "stdout",
     "output_type": "stream",
     "text": [
      "knn: 73.983%, 2.111%\n",
      "lgr: 71.302%, 3.089%\n",
      "dtc: 71.509%, 1.246%\n"
     ]
    }
   ],
   "source": [
    "scl = StandardScaler()\n",
    "Xs = scl.fit_transform(X)\n",
    "\n",
    "for n in models:\n",
    "    scores = cross_val_score(models[n], Xs, y, cv=kf, n_jobs=-1)\n",
    "    print(f'{n}: {scores.mean():.3%}, {scores.std():.3%}')"
   ]
  },
  {
   "cell_type": "markdown",
   "id": "29c9798a",
   "metadata": {
    "id": "29c9798a"
   },
   "source": [
    "**To do:**\n",
    "- Use Principle Component Analysis (PCA) to reduce the dimensionality of the scaled features to 13. Evaluate the performance of k-Nearest Neighbors, Logistic Regression and Decision Tree on these features using 5-fold cross validation."
   ]
  },
  {
   "cell_type": "code",
   "execution_count": 8,
   "id": "8585e37c",
   "metadata": {
    "id": "8585e37c",
    "tags": []
   },
   "outputs": [
    {
     "name": "stdout",
     "output_type": "stream",
     "text": [
      "knn: 73.725%, 1.527%\n",
      "lgr: 70.683%, 3.247%\n",
      "dtc: 64.350%, 2.594%\n"
     ]
    }
   ],
   "source": [
    "pca = PCA(n_components=13)\n",
    "Xsr = pca.fit_transform(Xs)\n",
    "\n",
    "for n in models:\n",
    "    scores = cross_val_score(models[n], Xsr, y, cv=kf, n_jobs=-1)\n",
    "    print(f'{n}: {scores.mean():.3%}, {scores.std():.3%}')"
   ]
  },
  {
   "cell_type": "code",
   "execution_count": null,
   "id": "451f73e2-76c6-4193-acda-034ab694018b",
   "metadata": {},
   "outputs": [],
   "source": []
  }
 ],
 "metadata": {
  "colab": {
   "include_colab_link": true,
   "provenance": []
  },
  "kernelspec": {
   "display_name": "Python 3 (ipykernel)",
   "language": "python",
   "name": "python3"
  },
  "language_info": {
   "codemirror_mode": {
    "name": "ipython",
    "version": 3
   },
   "file_extension": ".py",
   "mimetype": "text/x-python",
   "name": "python",
   "nbconvert_exporter": "python",
   "pygments_lexer": "ipython3",
   "version": "3.12.4"
  }
 },
 "nbformat": 4,
 "nbformat_minor": 5
}
